{
 "cells": [
  {
   "cell_type": "markdown",
   "metadata": {},
   "source": [
    "# Ideal Circular Orbit"
   ]
  },
  {
   "cell_type": "markdown",
   "metadata": {},
   "source": [
    "## Simple Equatorial Orbit\n",
    "\n",
    "$$\n",
    "\\vec{X}_{sv}^{(eci)}(t) = R_{sv}\\left(\\begin{matrix}\\cos(\\omega t) \\\\ \\sin(\\omega t) \\\\ 0 \\end{matrix}\\right)\n",
    "\\qquad\n",
    "\\vec{V}_{sv}^{(eci)}(t) = R_{sv}\\omega_{sv}\\left(\\begin{matrix}-\\sin(\\omega t) \\\\ \\cos(\\omega t) \\\\ 0 \\end{matrix}\\right) \n",
    "$$"
   ]
  },
  {
   "cell_type": "markdown",
   "metadata": {},
   "source": [
    "## Equatorial Orbit\n",
    "- True Anomaly: ($\\phi_{ta}$)\n",
    "\n",
    "$$\n",
    "\\Phi_{ta} = \\left(\\begin{matrix}\n",
    "\\cos\\phi_{ta} & -\\sin\\phi_{ta} & 0 \\\\\n",
    "\\sin\\phi_{ta} & \\cos\\phi_{ta} & 0 \\\\\n",
    "0 & 0 & 1\n",
    "\\end{matrix}\\right)\n",
    "$$\n",
    "\n",
    "$$\n",
    "\\vec{X}_{sv}^{(eci)}(t) = R_{sv}\\Phi_{ta}\n",
    "\\left(\\begin{matrix}\\cos(\\omega t) \\\\ \\sin(\\omega t) \\\\ 0 \\end{matrix}\\right)\n",
    "\\qquad\n",
    "\\vec{V}_{sv}^{(eci)}(t) = R_{sv}\\omega_{sv}\\Phi_{ta}\n",
    "\\left(\\begin{matrix}-\\sin(\\omega t) \\\\ \\cos(\\omega t) \\\\ 0 \\end{matrix}\\right)\n",
    "$$"
   ]
  },
  {
   "cell_type": "markdown",
   "metadata": {},
   "source": [
    "## Inclined Orbit\n",
    "- True Anomaly: ($\\phi_{ta}$)\n",
    "- Inclination: ($\\theta_{i}$)\n",
    "- Longitude of Ascending Node: ($\\theta_{an}$)\n",
    "\n",
    "$$\n",
    "\\Phi_{an} = \\left(\\begin{matrix}\n",
    "\\cos\\phi_{an} & -\\sin\\phi_{an} & 0 \\\\\n",
    "\\sin\\phi_{an} & \\cos\\phi_{an} & 0 \\\\\n",
    "0 & 0 & 1\n",
    "\\end{matrix}\\right)\n",
    "\\qquad\n",
    "\\Phi_{i} = \\left(\\begin{matrix}\n",
    "1 & 0 & 0 \\\\\n",
    "0 & \\cos\\theta_i & -\\sin\\theta_i \\\\\n",
    "0 & \\sin\\theta_i & \\cos\\theta_i \\\\\n",
    "\\end{matrix}\\right)\n",
    "\\qquad\n",
    "\\Phi_{ta} = \\left(\\begin{matrix}\n",
    "\\cos\\phi_{ta} & -\\sin\\phi_{ta} & 0 \\\\\n",
    "\\sin\\phi_{ta} & \\cos\\phi_{ta} & 0 \\\\\n",
    "0 & 0 & 1\n",
    "\\end{matrix}\\right)\n",
    "$$\n",
    "\n",
    "$$\n",
    "\\vec{X}_{sv}^{(eci)}(t) = R_{sv}\\Phi_{an}\\Phi_i\\Phi_{ta}\n",
    "\\left(\\begin{matrix}\\cos(\\omega t) \\\\ \\sin(\\omega t) \\\\ 0 \\end{matrix}\\right)\n",
    "\\qquad\n",
    "\\vec{V}_{sv}^{(eci)}(t) = R_{sv}\\omega_{sv}\\Phi_{an}\\Phi_i\\Phi_{ta}\n",
    "\\left(\\begin{matrix}-\\sin(\\omega t) \\\\ \\cos(\\omega t) \\\\ 0 \\end{matrix}\\right)\n",
    "$$"
   ]
  },
  {
   "cell_type": "markdown",
   "metadata": {},
   "source": [
    "## DEMO"
   ]
  },
  {
   "cell_type": "code",
   "execution_count": 1,
   "metadata": {},
   "outputs": [],
   "source": [
    "from pval import units as u"
   ]
  },
  {
   "cell_type": "code",
   "execution_count": 2,
   "metadata": {},
   "outputs": [],
   "source": [
    "mass_earth = 6e24 * u.kg\n",
    "G_const = 6.67e-11 * (u.N * u.m**2 / (u.kg**2))"
   ]
  },
  {
   "cell_type": "code",
   "execution_count": 3,
   "metadata": {},
   "outputs": [],
   "source": [
    "R_earth = 3444 * u.nmi\n",
    "H_sv = 385 * u.nmi\n",
    "R_sv = R_earth + H_sv\n",
    "\n",
    "import numpy as np\n",
    "\n",
    "#T_sv = 2*np.pi * np.sqrt(R_sv**3 / (G_const * mass_earth))\n",
    "T_sv = 2*np.pi*(R_sv**3 / (G_const * mass_earth))**0.5\n",
    "\n",
    "omega_sv = u.cycle / T_sv\n",
    "omega_earth = u.cycle / u.day"
   ]
  },
  {
   "cell_type": "code",
   "execution_count": 31,
   "metadata": {},
   "outputs": [],
   "source": [
    "inclination = 0\n",
    "true_anomaly = 0\n",
    "ascending_node = 0\n",
    "\n",
    "c_an = np.cos(ascending_node)\n",
    "s_an = np.sin(ascending_node)\n",
    "\n",
    "c_i = np.cos(inclination)\n",
    "s_i = np.sin(inclination)\n",
    "\n",
    "c_ta = np.cos(true_anomaly)\n",
    "s_ta = np.sin(true_anomaly)\n",
    "\n",
    "phi_an = np.array([[c_an,-s_an,0],[s_an,c_an,0],[0,0,1]])\n",
    "phi_i = np.array([[1,0,0],[0,c_i,-s_i],[0,s_i,c_i]])\n",
    "phi_ta = np.array([[c_ta,-s_ta,0],[s_ta,c_ta,0],[0,0,1]])\n",
    "phi_sv = np.matmul(np.matmul(phi_an,phi_i),phi_ta)\n",
    "\n",
    "KX_sv = R_sv * phi_sv\n",
    "KV_sv = KX_sv * omega_sv\n",
    "\n",
    "def X_sv(t):\n",
    "    phi = omega_sv * t\n",
    "    return np.matmul(KX_sv,np.array([[np.cos(phi)],[np.sin(phi)],[0]]))\n",
    "\n",
    "def V_sv(t):\n",
    "    phi = omega_sv * t\n",
    "    return np.matmul(KV_sv,np.array([[-np.sin(phi)],[np.cos(phi)],[0]]))"
   ]
  },
  {
   "cell_type": "code",
   "execution_count": 34,
   "metadata": {},
   "outputs": [
    {
     "ename": "ValueError",
     "evalue": "matmul: Input operand 0 does not have enough dimensions (has 0, gufunc core with signature (n?,k),(k,m?)->(n?,m?) requires 1)",
     "output_type": "error",
     "traceback": [
      "\u001b[0;31m---------------------------------------------------------------------------\u001b[0m",
      "\u001b[0;31mValueError\u001b[0m                                Traceback (most recent call last)",
      "\u001b[0;32m<ipython-input-34-3808c2f40a2c>\u001b[0m in \u001b[0;36m<module>\u001b[0;34m\u001b[0m\n\u001b[0;32m----> 1\u001b[0;31m \u001b[0mnp\u001b[0m\u001b[0;34m.\u001b[0m\u001b[0mmatmul\u001b[0m\u001b[0;34m(\u001b[0m\u001b[0mKX_sv\u001b[0m\u001b[0;34m,\u001b[0m\u001b[0mnp\u001b[0m\u001b[0;34m.\u001b[0m\u001b[0marray\u001b[0m\u001b[0;34m(\u001b[0m\u001b[0;34m[\u001b[0m\u001b[0;34m[\u001b[0m\u001b[0;36m1\u001b[0m\u001b[0;34m]\u001b[0m\u001b[0;34m,\u001b[0m\u001b[0;34m[\u001b[0m\u001b[0;36m0\u001b[0m\u001b[0;34m]\u001b[0m\u001b[0;34m,\u001b[0m\u001b[0;34m[\u001b[0m\u001b[0;36m0\u001b[0m\u001b[0;34m]\u001b[0m\u001b[0;34m]\u001b[0m\u001b[0;34m)\u001b[0m\u001b[0;34m)\u001b[0m\u001b[0;34m\u001b[0m\u001b[0;34m\u001b[0m\u001b[0m\n\u001b[0m",
      "\u001b[0;31mValueError\u001b[0m: matmul: Input operand 0 does not have enough dimensions (has 0, gufunc core with signature (n?,k),(k,m?)->(n?,m?) requires 1)"
     ]
    }
   ],
   "source": [
    "np.matmul(KX_sv,np.array([[1],[0],[0]]))"
   ]
  },
  {
   "cell_type": "code",
   "execution_count": null,
   "metadata": {},
   "outputs": [],
   "source": []
  }
 ],
 "metadata": {
  "kernelspec": {
   "display_name": "Python 3",
   "language": "python",
   "name": "python3"
  },
  "language_info": {
   "codemirror_mode": {
    "name": "ipython",
    "version": 3
   },
   "file_extension": ".py",
   "mimetype": "text/x-python",
   "name": "python",
   "nbconvert_exporter": "python",
   "pygments_lexer": "ipython3",
   "version": "3.8.5"
  }
 },
 "nbformat": 4,
 "nbformat_minor": 4
}
