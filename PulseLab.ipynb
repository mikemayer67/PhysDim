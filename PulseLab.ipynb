{
 "cells": [
  {
   "cell_type": "markdown",
   "metadata": {},
   "source": [
    "https://dspguru.com/files/QuadSignals.pdf"
   ]
  },
  {
   "cell_type": "code",
   "execution_count": null,
   "metadata": {},
   "outputs": [],
   "source": [
    "import numpy as np\n",
    "import matplotlib.pyplot as plt\n",
    "\n",
    "from numpy.fft import fft, ifft, fftfreq, fftshift, ifftshift\n",
    "\n",
    "from physdim import units as u\n",
    "from physdim import constants as K\n",
    "from physdim import PhysicalValue\n",
    "PhysicalValue.repr_is_str = True"
   ]
  },
  {
   "cell_type": "code",
   "execution_count": null,
   "metadata": {},
   "outputs": [],
   "source": [
    "T = 100*u.usec\n",
    "fo = 850*u.kHz\n",
    "BW = 400*u.kHz"
   ]
  },
  {
   "cell_type": "code",
   "execution_count": null,
   "metadata": {},
   "outputs": [],
   "source": [
    "IPRr = 0.5*K.c/BW\n",
    "IPRr"
   ]
  },
  {
   "cell_type": "markdown",
   "metadata": {},
   "source": [
    "# Transmit Signal\n",
    "\n",
    "$$\n",
    "\\begin{align}\n",
    "f(t) &= f_s + \\gamma\\,T \\qquad\n",
    "\\text{where}\\quad f_s = f_o - \\frac{BW}{2}\\quad\n",
    "\\text{and}\\quad\\gamma = \\frac{BW}{T} \\\\\n",
    "\\omega(t) &= 2\\pi f(t) = 2\\pi\\left(f_s + \\gamma\\,T\\right)\\\\\n",
    "\\\\\n",
    "\\phi(t) &= \\phi_o + \\int_0^t \\omega(\\tau)\\,d\\tau = \\phi_o + 2\\pi\\left(f_s\\,t + \\frac{\\gamma\\,t^2}{2}\\right)\\\\\n",
    "\\\\\n",
    "\\sigma_{tx}(t) &= \\tau\\left[0\\le t\\le T\\right]\\;\\sin\\left[\\phi_o + 2\\pi\\left(f_s\\,t + \\frac{\\gamma\\,t^2}{2}\\right)\\right]\n",
    "\\end{align}\n",
    "$$"
   ]
  },
  {
   "cell_type": "code",
   "execution_count": null,
   "metadata": {},
   "outputs": [],
   "source": [
    "fs = fo-BW/2\n",
    "gamma = BW/T\n",
    "phi_o = 0\n",
    "\n",
    "def xmit(t):\n",
    "    if t<0*u.sec or t>T:\n",
    "        return 0\n",
    "    return np.sin(phi_o + 2*np.pi*(t*(fs+0.5*gamma*t)))    "
   ]
  },
  {
   "cell_type": "code",
   "execution_count": null,
   "metadata": {},
   "outputs": [],
   "source": [
    "Fs = 10*fo\n",
    "t = [i/Fs for i in range(int(Fs*T))]\n",
    "t_plt = [tt.usec for tt in t]\n",
    "s_plt = [xmit(tt) for tt in t]\n",
    "\n",
    "plt.figure(figsize=(18,4))\n",
    "plt.plot(t_plt,s_plt)\n",
    "plt.show()"
   ]
  },
  {
   "cell_type": "markdown",
   "metadata": {},
   "source": [
    "## Return Signal"
   ]
  },
  {
   "cell_type": "code",
   "execution_count": null,
   "metadata": {},
   "outputs": [],
   "source": [
    "# List of signal reflectors\n",
    "#  Each reflector is a tuple containing range and relative cross section\n",
    "reflectors = (\n",
    "    (500*u.nmi, 1.0),\n",
    "    (503*u.nmi, 0.2),\n",
    "    (510*u.nmi, 0.5),\n",
    "    (490*u.nmi, 0.75),\n",
    ")\n",
    "\n",
    "def rcv(t):\n",
    "    return sum( A * xmit(t-2*rs/K.c) for rs,A in reflectors)"
   ]
  },
  {
   "cell_type": "code",
   "execution_count": null,
   "metadata": {},
   "outputs": [],
   "source": [
    "round_trip_times = tuple(2*Rs/K.c for Rs,_ in reflectors)\n",
    "Tr_s = min(round_trip_times)\n",
    "Tr_e = max(round_trip_times) + T\n",
    "Tp_s = 1.05*Tr_s - 0.05*Tr_e\n",
    "Tp_e = 1.05*Tr_e - 0.05*Tr_s\n",
    "\n",
    "t = [Tp_s + i/Fs for i in range(int(Fs*(Tp_e-Tp_s)))]\n",
    "t_plt = [tt.msec for tt in t]\n",
    "s_plt = [rcv(tt) for tt in t]\n",
    "\n",
    "plt.figure(figsize=(18,4))\n",
    "plt.plot(t_plt,s_plt)\n",
    "plt.show()"
   ]
  },
  {
   "cell_type": "code",
   "execution_count": null,
   "metadata": {},
   "outputs": [],
   "source": [
    "len(s_plt)/(len(s_plt)/Fs)"
   ]
  },
  {
   "cell_type": "markdown",
   "metadata": {},
   "source": [
    "# Chirp\n",
    "\n",
    "$$\n",
    "\\begin{align}\n",
    "f_{chirp}(t) &= f_c \\\\\n",
    "\\phi_{chirp}(t) &= \\phi_{oc} + 2\\pi f_c\\,t\\\\\n",
    "\\sigma_{chirp}(t) &= \\sin\\left(\\phi_{oc} + 2\\pi f_c\\,t\\right)\n",
    "\\end{align}\n",
    "$$"
   ]
  },
  {
   "cell_type": "code",
   "execution_count": null,
   "metadata": {},
   "outputs": [],
   "source": [
    "fc=fo\n",
    "phi_oc = 0\n",
    "def demod_chirp(t):\n",
    "    return np.sin(phi_oc + 2*np.pi*fc*t)\n",
    "\n",
    "def rcv_chirp(t):\n",
    "    return rcv(t)*demod_chirp(t)"
   ]
  },
  {
   "cell_type": "code",
   "execution_count": null,
   "metadata": {
    "scrolled": false
   },
   "outputs": [],
   "source": [
    "s = [rcv_chirp(tt) for tt in t]\n",
    "plt.figure(figsize=(18,4))\n",
    "plt.plot(t_plt,s)\n",
    "plt.show()"
   ]
  },
  {
   "cell_type": "markdown",
   "metadata": {},
   "source": [
    "## Pass through IF filter "
   ]
  },
  {
   "cell_type": "code",
   "execution_count": null,
   "metadata": {},
   "outputs": [],
   "source": [
    "BW_if = 2000*u.kHz"
   ]
  },
  {
   "cell_type": "code",
   "execution_count": null,
   "metadata": {},
   "outputs": [],
   "source": [
    "# convert to frequency domain\n",
    "S = fft(s)\n",
    "f = fftfreq(len(S),1/Fs)\n",
    "f_plt = fftshift(f)*u.Hz\n",
    "S_plt = fftshift(S)\n",
    "\n",
    "plt.figure(figsize=(18,4))\n",
    "plt.plot(f_plt.kHz,np.abs(S_plt))\n",
    "plt.show()"
   ]
  },
  {
   "cell_type": "code",
   "execution_count": null,
   "metadata": {},
   "outputs": [],
   "source": [
    "# apply IF filter\n",
    "Sif = S\n",
    "Sif[np.abs(f) > BW_if/2] = 0\n",
    "\n",
    "plt.figure(figsize=(18,4))\n",
    "plt.plot(f_plt.kHz,fftshift(np.abs(Sif)))\n",
    "plt.show()"
   ]
  },
  {
   "cell_type": "code",
   "execution_count": null,
   "metadata": {},
   "outputs": [],
   "source": [
    "# convert back to time domain\n",
    "s_chirp = np.real(ifft(Sif))\n",
    "t_chirp = t_plt * u.msec\n",
    "\n",
    "plt.figure(figsize=(18,4))\n",
    "plt.plot(t_plt,s_chirp)\n",
    "plt.show()"
   ]
  },
  {
   "cell_type": "markdown",
   "metadata": {},
   "source": [
    "# Stretch\n",
    "\n",
    "$$\n",
    "\\begin{align}\n",
    "f_{stretch}(t) &= f_{so} + \\gamma\\,t \\\\\n",
    "\\phi_{stretch}(t) &= \\phi_{os} + 2\\pi f_{so}\\,t + \\pi\\gamma\\,t^2\\\\\n",
    "\\sigma_{chirp}(t) &= \\sin\\left(\\phi_{os} + 2\\pi f_{so}\\,t + \\pi\\gamma\\,t^2\\right)\n",
    "\\end{align}\n",
    "$$"
   ]
  },
  {
   "cell_type": "code",
   "execution_count": null,
   "metadata": {},
   "outputs": [],
   "source": [
    "fso=fo-gamma*(0.5*(Tr_s+Tr_e)-Tp_s)\n",
    "phi_os = 0\n",
    "\n",
    "def demod_stretch(t):\n",
    "    return np.sin(phi_os + 2*np.pi*t*(fso + 0.5*gamma*t))\n",
    "\n",
    "def rcv_stretch(t):\n",
    "    return rcv(t)*demod_stretch(t-Tp_s)"
   ]
  },
  {
   "cell_type": "code",
   "execution_count": null,
   "metadata": {},
   "outputs": [],
   "source": [
    "s = [rcv_stretch(tt) for tt in t]\n",
    "\n",
    "plt.figure(figsize=(18,4))\n",
    "plt.plot(t_plt,s)\n",
    "plt.show()"
   ]
  },
  {
   "cell_type": "markdown",
   "metadata": {},
   "source": [
    "## Pass through IF filter"
   ]
  },
  {
   "cell_type": "code",
   "execution_count": null,
   "metadata": {},
   "outputs": [],
   "source": [
    "BW_if = 1400*u.kHz"
   ]
  },
  {
   "cell_type": "code",
   "execution_count": null,
   "metadata": {
    "scrolled": true
   },
   "outputs": [],
   "source": [
    "# convert to frequency domain\n",
    "S = fft(s)\n",
    "f = fftfreq(len(S),1/Fs)\n",
    "f_plt = fftshift(f)*u.Hz\n",
    "S_plt = fftshift(S)\n",
    "\n",
    "plt.figure(figsize=(18,4))\n",
    "plt.plot(f_plt.kHz,np.abs(S_plt))\n",
    "plt.show()"
   ]
  },
  {
   "cell_type": "code",
   "execution_count": null,
   "metadata": {},
   "outputs": [],
   "source": [
    "# apply IF filter\n",
    "Sif = S\n",
    "Sif[np.abs(f) > BW_if/2] = 0\n",
    "\n",
    "plt.figure(figsize=(18,4))\n",
    "plt.plot(f_plt.kHz,fftshift(np.abs(Sif)))\n",
    "plt.show()"
   ]
  },
  {
   "cell_type": "code",
   "execution_count": null,
   "metadata": {
    "scrolled": false
   },
   "outputs": [],
   "source": [
    "# convert back to time domain\n",
    "s_stretch = np.real(ifft(Sif))\n",
    "t_stretch = t_plt * u.msec\n",
    "\n",
    "plt.figure(figsize=(18,4))\n",
    "plt.plot(t_plt,s_stretch)\n",
    "plt.show()"
   ]
  },
  {
   "cell_type": "markdown",
   "metadata": {},
   "source": [
    "## Deskew"
   ]
  },
  {
   "cell_type": "code",
   "execution_count": null,
   "metadata": {},
   "outputs": [],
   "source": [
    "# Use FFT to create spectrum\n",
    "Fs_data = 1/(t[1]-t[0])\n",
    "Fs_desired = 2*fo\n",
    "osf = int(Fs_data/Fs_desired+0.25)\n",
    "\n",
    "s_sampled = s_stretch[0:-1:osf]\n",
    "t_sampled = t_stretch[0:-1:osf]\n",
    "nsamp = len(s_sampled)\n",
    "\n",
    "S_sampled = fft(s_sampled)\n",
    "f_sampled = fftfreq(nsamp, osf/Fs)\n",
    "\n",
    "fig,ax = plt.subplots(3,1,figsize=(18,12))\n",
    "ax[0].plot(t_sampled/u.sec,s_sampled)\n",
    "ax[1].plot(fftshift(f_sampled.kHz),fftshift(np.abs(S_sampled)))\n",
    "ax[2].plot(fftshift(f_sampled.kHz),fftshift(np.angle(S_sampled)),'.r')\n",
    "plt.show()"
   ]
  },
  {
   "cell_type": "code",
   "execution_count": null,
   "metadata": {},
   "outputs": [],
   "source": [
    "fig,axs = plt.subplots(4,1,figsize=(18,16))\n",
    "dt = -f_sampled*(Fs/osf)/gamma\n",
    "w = np.exp(-2j*np.pi*f_sampled*osf/Fs)\n",
    "axs[0].plot(dt)\n",
    "axs[1].plot(f_sampled.kHz)\n",
    "axs[2].plot(f_sampled.kHz,dt)\n",
    "axs[3].plot(np.angle(w))\n",
    "plt.show()"
   ]
  },
  {
   "cell_type": "code",
   "execution_count": null,
   "metadata": {},
   "outputs": [],
   "source": [
    "# timeshift each frequency based on chirp slope\n",
    "w = np.exp(-2j*np.pi*f_sampled*osf/Fs)\n",
    "w = np.exp(-2j*np.pi*f_sampled*osf*20/Fs)\n",
    "w = np.exp(2j*np.pi*f_sampled*osf*f_sampled/gamma)\n",
    "\n",
    "S_deskewed = S_sampled * w\n",
    "\n",
    "s_deskewed = ifft(S_deskewed)\n",
    "\n",
    "fig,ax = plt.subplots(3,1,figsize=(18,12))\n",
    "ax[0].plot(fftshift(f_sampled.kHz),fftshift(np.abs(S_deskewed)))\n",
    "ax[1].plot(fftshift(f_sampled.kHz),fftshift(np.angle(S_deskewed)),'.r')\n",
    "ax[2].plot(t_sampled.usec,s_sampled)\n",
    "ax[2].plot(t_sampled.usec,np.real(s_deskewed))\n",
    "plt.show()"
   ]
  },
  {
   "cell_type": "code",
   "execution_count": null,
   "metadata": {},
   "outputs": [],
   "source": [
    "plt.plot((f_sampled/gamma).usec)"
   ]
  },
  {
   "cell_type": "code",
   "execution_count": null,
   "metadata": {},
   "outputs": [],
   "source": []
  }
 ],
 "metadata": {
  "kernelspec": {
   "display_name": "Python 3 (ipykernel)",
   "language": "python",
   "name": "python3"
  },
  "language_info": {
   "codemirror_mode": {
    "name": "ipython",
    "version": 3
   },
   "file_extension": ".py",
   "mimetype": "text/x-python",
   "name": "python",
   "nbconvert_exporter": "python",
   "pygments_lexer": "ipython3",
   "version": "3.9.7"
  }
 },
 "nbformat": 4,
 "nbformat_minor": 4
}
