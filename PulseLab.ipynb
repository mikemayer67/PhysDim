{
 "cells": [
  {
   "cell_type": "markdown",
   "metadata": {},
   "source": [
    "https://dspguru.com/files/QuadSignals.pdf"
   ]
  },
  {
   "cell_type": "code",
   "execution_count": null,
   "metadata": {},
   "outputs": [],
   "source": [
    "import numpy as np\n",
    "import matplotlib.pyplot as plt\n",
    "\n",
    "from numpy.fft import fft, ifft, fftfreq, fftshift\n",
    "\n",
    "from physdim import units as u\n",
    "from physdim import constants as K\n",
    "from physdim import PhysicalValue\n",
    "PhysicalValue.repr_is_str = True"
   ]
  },
  {
   "cell_type": "code",
   "execution_count": null,
   "metadata": {},
   "outputs": [],
   "source": [
    "T = 100*u.usec\n",
    "fo = 850*u.kHz\n",
    "BW = 400*u.kHz"
   ]
  },
  {
   "cell_type": "code",
   "execution_count": null,
   "metadata": {},
   "outputs": [],
   "source": [
    "IPRr = 0.5*K.c/BW\n",
    "IPRr"
   ]
  },
  {
   "cell_type": "markdown",
   "metadata": {},
   "source": [
    "# Transmit Signal\n",
    "\n",
    "$$\n",
    "\\begin{align}\n",
    "f(t) &= f_s + \\gamma\\,T \\qquad\n",
    "\\text{where}\\quad f_s = f_o - \\frac{BW}{2}\\quad\n",
    "\\text{and}\\quad\\gamma = \\frac{BW}{T} \\\\\n",
    "\\omega(t) &= 2\\pi f(t) = 2\\pi\\left(f_s + \\gamma\\,T\\right)\\\\\n",
    "\\\\\n",
    "\\phi(t) &= \\phi_o + \\int_0^t \\omega(\\tau)\\,d\\tau = \\phi_o + 2\\pi\\left(f_s\\,t + \\frac{\\gamma\\,t^2}{2}\\right)\\\\\n",
    "\\\\\n",
    "\\sigma_{tx}(t) &= \\tau\\left[0\\le t\\le T\\right]\\;\\sin\\left[\\phi_o + 2\\pi\\left(f_s\\,t + \\frac{\\gamma\\,t^2}{2}\\right)\\right]\n",
    "\\end{align}\n",
    "$$"
   ]
  },
  {
   "cell_type": "code",
   "execution_count": null,
   "metadata": {},
   "outputs": [],
   "source": [
    "fs = fo-BW/2\n",
    "gamma = BW/T\n",
    "phi_o = 0\n",
    "\n",
    "def xmit(t):\n",
    "    if t<0*u.sec or t>T:\n",
    "        return 0\n",
    "    return np.sin(phi_o + 2*np.pi*(t*(fs+0.5*gamma*t)))    "
   ]
  },
  {
   "cell_type": "code",
   "execution_count": null,
   "metadata": {},
   "outputs": [],
   "source": [
    "Fs = 20*fo\n",
    "t = [i/Fs for i in range(int(Fs*T))]\n",
    "x = [tt.usec for tt in t]\n",
    "s = [xmit(tt) for tt in t]\n",
    "plt.figure(figsize=(18,4))\n",
    "plt.plot(x,s)\n",
    "plt.show()"
   ]
  },
  {
   "cell_type": "markdown",
   "metadata": {},
   "source": [
    "## Return Signal"
   ]
  },
  {
   "cell_type": "code",
   "execution_count": null,
   "metadata": {},
   "outputs": [],
   "source": [
    "# List of signal reflectors\n",
    "#  Each reflector is a tuple containing range and relative cross section\n",
    "reflectors = (\n",
    "    (500*u.nmi, 1.0),\n",
    "    (503*u.nmi, 0.2),\n",
    "    (510*u.nmi, 0.5),\n",
    "    (490*u.nmi, 0.75),\n",
    ")\n",
    "\n",
    "def rcv(t):\n",
    "    return sum( A * xmit(t-2*rs/K.c) for rs,A in reflectors)"
   ]
  },
  {
   "cell_type": "code",
   "execution_count": null,
   "metadata": {},
   "outputs": [],
   "source": [
    "round_trip_times = tuple(2*Rs/K.c for Rs,_ in reflectors)\n",
    "Tr_s = min(round_trip_times)\n",
    "Tr_e = max(round_trip_times) + T\n",
    "Tp_s = 1.05*Tr_s - 0.05*Tr_e\n",
    "Tp_e = 1.05*Tr_e - 0.05*Tr_s\n",
    "t = [Tp_s + i/Fs for i in range(int(Fs*(Tp_e-Tp_s)))]\n",
    "x = [tt.usec for tt in t]\n",
    "s = [rcv(tt) for tt in t]\n",
    "plt.figure(figsize=(18,4))\n",
    "plt.plot(x,s)\n",
    "plt.show()"
   ]
  },
  {
   "cell_type": "markdown",
   "metadata": {},
   "source": [
    "# Chirp\n",
    "\n",
    "$$\n",
    "\\begin{align}\n",
    "f_{chirp}(t) &= f_c \\\\\n",
    "\\phi_{chirp}(t) &= \\phi_{oc} + 2\\pi f_c\\,t\\\\\n",
    "\\sigma_{chirp}(t) &= \\sin\\left(\\phi_{oc} + 2\\pi f_c\\,t\\right)\n",
    "\\end{align}\n",
    "$$"
   ]
  },
  {
   "cell_type": "code",
   "execution_count": null,
   "metadata": {},
   "outputs": [],
   "source": [
    "fc=fo\n",
    "phi_oc = 0\n",
    "def deramp_chirp(t):\n",
    "    return np.sin(phi_oc + 2*np.pi*fc*t)\n",
    "\n",
    "def rcv_chirp(t):\n",
    "    return rcv(t)*deramp_chirp(t)"
   ]
  },
  {
   "cell_type": "code",
   "execution_count": null,
   "metadata": {
    "scrolled": true
   },
   "outputs": [],
   "source": [
    "s = [rcv_chirp(tt) for tt in t]\n",
    "plt.figure(figsize=(18,4))\n",
    "plt.plot(x,s)\n",
    "plt.show()"
   ]
  },
  {
   "cell_type": "code",
   "execution_count": null,
   "metadata": {},
   "outputs": [],
   "source": [
    "S = fft(s)\n",
    "X = fftfreq(len(S),1/Fs)"
   ]
  },
  {
   "cell_type": "code",
   "execution_count": null,
   "metadata": {
    "scrolled": true
   },
   "outputs": [],
   "source": [
    "plt.figure(figsize=(18,4))\n",
    "plt.plot(X.kHz,np.abs(S))\n",
    "plt.show()"
   ]
  },
  {
   "cell_type": "code",
   "execution_count": null,
   "metadata": {},
   "outputs": [],
   "source": [
    "f = np.abs(X)<1000*u.kHz\n",
    "Sr = S[f]\n",
    "Xr = X[f]"
   ]
  },
  {
   "cell_type": "code",
   "execution_count": null,
   "metadata": {},
   "outputs": [],
   "source": [
    "plt.figure(figsize=(18,4))\n",
    "plt.plot(Xr.kHz,np.abs(Sr))\n",
    "plt.show()"
   ]
  },
  {
   "cell_type": "code",
   "execution_count": null,
   "metadata": {},
   "outputs": [],
   "source": [
    "sr = np.real(ifft(Sr))\n",
    "xr = fftshift(fftfreq(len(Sr),X[1]))*u.sec"
   ]
  },
  {
   "cell_type": "code",
   "execution_count": null,
   "metadata": {},
   "outputs": [],
   "source": [
    "plt.figure(figsize=(18,4))\n",
    "plt.plot(xr.usec,sr)\n",
    "plt.show()"
   ]
  },
  {
   "cell_type": "markdown",
   "metadata": {},
   "source": [
    "# Stretch\n",
    "\n",
    "$$\n",
    "\\begin{align}\n",
    "f_{stretch}(t) &= f_{so} + \\gamma\\,t \\\\\n",
    "\\phi_{stretch}(t) &= \\phi_{os} + 2\\pi f_{so}\\,t + \\pi\\gamma\\,t^2\\\\\n",
    "\\sigma_{chirp}(t) &= \\sin\\left(\\phi_{os} + 2\\pi f_{so}\\,t + \\pi\\gamma\\,t^2\\right)\n",
    "\\end{align}\n",
    "$$"
   ]
  },
  {
   "cell_type": "code",
   "execution_count": null,
   "metadata": {},
   "outputs": [],
   "source": [
    "fso=fo-gamma*(0.5*(Tr_s+Tr_e)-Tp_s)\n",
    "phi_os = 0\n",
    "\n",
    "def deramp_stretch(t):\n",
    "    return np.sin(phi_os + 2*np.pi*t*(fso + 0.5*gamma*t))\n",
    "\n",
    "def rcv_stretch(t):\n",
    "    return rcv(t)*deramp_stretch(t-Tp_s)"
   ]
  },
  {
   "cell_type": "code",
   "execution_count": null,
   "metadata": {},
   "outputs": [],
   "source": [
    "s = [rcv_stretch(tt) for tt in t]\n",
    "plt.figure(figsize=(18,4))\n",
    "plt.plot(x,s)\n",
    "plt.show()"
   ]
  },
  {
   "cell_type": "code",
   "execution_count": null,
   "metadata": {},
   "outputs": [],
   "source": [
    "S = fft(s)\n",
    "X = fftfreq(len(S),1/Fs)"
   ]
  },
  {
   "cell_type": "code",
   "execution_count": null,
   "metadata": {},
   "outputs": [],
   "source": [
    "plt.figure(figsize=(18,4))\n",
    "plt.plot(X.kHz,np.abs(S))\n",
    "plt.show()"
   ]
  },
  {
   "cell_type": "code",
   "execution_count": null,
   "metadata": {},
   "outputs": [],
   "source": [
    "f = np.abs(X)<1000*u.kHz\n",
    "Sr = S[f]\n",
    "Xr = X[f]"
   ]
  },
  {
   "cell_type": "code",
   "execution_count": null,
   "metadata": {},
   "outputs": [],
   "source": [
    "plt.figure(figsize=(18,4))\n",
    "plt.plot(Xr.kHz,np.abs(Sr))\n",
    "plt.twinx()\n",
    "plt.plot(Xr.kHz,np.angle(Sr),'.',color='orange')\n",
    "plt.show()"
   ]
  },
  {
   "cell_type": "code",
   "execution_count": null,
   "metadata": {},
   "outputs": [],
   "source": [
    "sr = np.real(ifft(Sr))\n",
    "xr = fftshift(fftfreq(len(Sr),X[1]))*u.sec"
   ]
  },
  {
   "cell_type": "code",
   "execution_count": null,
   "metadata": {},
   "outputs": [],
   "source": [
    "plt.figure(figsize=(18,4))\n",
    "plt.plot(xr.usec,sr)\n",
    "plt.show()"
   ]
  },
  {
   "cell_type": "code",
   "execution_count": null,
   "metadata": {},
   "outputs": [],
   "source": [
    "g = np.exp(fftshift(np.arange(len(Sr))*(-2j*np.pi*100/len(Sr))))\n",
    "Srd = Sr * g"
   ]
  },
  {
   "cell_type": "code",
   "execution_count": null,
   "metadata": {},
   "outputs": [],
   "source": [
    "Srd = Sr * np.exp(1j*75*u.deg/u.rad)"
   ]
  },
  {
   "cell_type": "code",
   "execution_count": null,
   "metadata": {},
   "outputs": [],
   "source": [
    "plt.figure(figsize=(18,4))\n",
    "plt.plot(Xr.kHz,np.abs(Srd))\n",
    "ax2 = plt.twinx()\n",
    "ax2.plot(Xr.kHz,np.angle(Srd),'.',color='orange')\n",
    "plt.show()"
   ]
  },
  {
   "cell_type": "code",
   "execution_count": null,
   "metadata": {},
   "outputs": [],
   "source": [
    "srd = np.real(ifft(Srd))"
   ]
  },
  {
   "cell_type": "code",
   "execution_count": null,
   "metadata": {},
   "outputs": [],
   "source": [
    "plt.figure(figsize=(18,4))\n",
    "plt.plot(xr.usec,srd)\n",
    "plt.show()"
   ]
  },
  {
   "cell_type": "code",
   "execution_count": null,
   "metadata": {},
   "outputs": [],
   "source": []
  }
 ],
 "metadata": {
  "kernelspec": {
   "display_name": "Python 3",
   "language": "python",
   "name": "python3"
  },
  "language_info": {
   "codemirror_mode": {
    "name": "ipython",
    "version": 3
   },
   "file_extension": ".py",
   "mimetype": "text/x-python",
   "name": "python",
   "nbconvert_exporter": "python",
   "pygments_lexer": "ipython3",
   "version": "3.8.5"
  }
 },
 "nbformat": 4,
 "nbformat_minor": 4
}
